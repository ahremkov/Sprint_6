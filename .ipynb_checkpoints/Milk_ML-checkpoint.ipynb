{
 "cells": [
  {
   "cell_type": "code",
   "execution_count": 4,
   "id": "0fa7c253-cedc-4817-90da-44e5548d73e2",
   "metadata": {},
   "outputs": [],
   "source": [
    "import pandas as pd"
   ]
  },
  {
   "cell_type": "code",
   "execution_count": 5,
   "id": "5d2887fa-e076-4712-b8f5-af7fbb9f0fef",
   "metadata": {},
   "outputs": [],
   "source": [
    "df_buy=pd.read_csv('cow_buy.csv')\n",
    "df_dad=pd.read_csv('cow_buy.csv')\n",
    "df_main=pd.read_csv('cow_buy.csv')\n"
   ]
  },
  {
   "cell_type": "code",
   "execution_count": null,
   "id": "2faebb21-2358-4f89-8a40-47022a4374db",
   "metadata": {},
   "outputs": [],
   "source": []
  }
 ],
 "metadata": {
  "kernelspec": {
   "display_name": "Python 3 (ipykernel)",
   "language": "python",
   "name": "python3"
  },
  "language_info": {
   "codemirror_mode": {
    "name": "ipython",
    "version": 3
   },
   "file_extension": ".py",
   "mimetype": "text/x-python",
   "name": "python",
   "nbconvert_exporter": "python",
   "pygments_lexer": "ipython3",
   "version": "3.10.9"
  }
 },
 "nbformat": 4,
 "nbformat_minor": 5
}
